{
 "cells": [
  {
   "cell_type": "code",
   "execution_count": 114,
   "id": "139f27fb",
   "metadata": {},
   "outputs": [],
   "source": [
    "import numpy as np\n",
    "import pandas as pd\n",
    "import re\n",
    "import string\n",
    "import nltk\n",
    "from nltk.corpus import stopwords\n",
    "from nltk.tokenize import word_tokenize\n",
    "from nltk.stem import PorterStemmer\n",
    "from nltk.stem import WordNetLemmatizer\n",
    "from nltk.tag import pos_tag"
   ]
  },
  {
   "cell_type": "code",
   "execution_count": 115,
   "id": "847eed42",
   "metadata": {},
   "outputs": [],
   "source": [
    "News=pd.read_csv('FinancialPhraseBank.csv',encoding='latin-1')"
   ]
  },
  {
   "cell_type": "code",
   "execution_count": 116,
   "id": "c4d667f7",
   "metadata": {},
   "outputs": [
    {
     "data": {
      "text/html": [
       "<div>\n",
       "<style scoped>\n",
       "    .dataframe tbody tr th:only-of-type {\n",
       "        vertical-align: middle;\n",
       "    }\n",
       "\n",
       "    .dataframe tbody tr th {\n",
       "        vertical-align: top;\n",
       "    }\n",
       "\n",
       "    .dataframe thead th {\n",
       "        text-align: right;\n",
       "    }\n",
       "</style>\n",
       "<table border=\"1\" class=\"dataframe\">\n",
       "  <thead>\n",
       "    <tr style=\"text-align: right;\">\n",
       "      <th></th>\n",
       "      <th>neutral</th>\n",
       "      <th>According to Gran , the company has no plans to move all production to Russia , although that is where the company is growing .</th>\n",
       "    </tr>\n",
       "  </thead>\n",
       "  <tbody>\n",
       "    <tr>\n",
       "      <th>0</th>\n",
       "      <td>neutral</td>\n",
       "      <td>Technopolis plans to develop in stages an area...</td>\n",
       "    </tr>\n",
       "    <tr>\n",
       "      <th>1</th>\n",
       "      <td>negative</td>\n",
       "      <td>The international electronic industry company ...</td>\n",
       "    </tr>\n",
       "    <tr>\n",
       "      <th>2</th>\n",
       "      <td>positive</td>\n",
       "      <td>With the new production plant the company woul...</td>\n",
       "    </tr>\n",
       "    <tr>\n",
       "      <th>3</th>\n",
       "      <td>positive</td>\n",
       "      <td>According to the company 's updated strategy f...</td>\n",
       "    </tr>\n",
       "    <tr>\n",
       "      <th>4</th>\n",
       "      <td>positive</td>\n",
       "      <td>FINANCING OF ASPOCOMP 'S GROWTH Aspocomp is ag...</td>\n",
       "    </tr>\n",
       "  </tbody>\n",
       "</table>\n",
       "</div>"
      ],
      "text/plain": [
       "    neutral  \\\n",
       "0   neutral   \n",
       "1  negative   \n",
       "2  positive   \n",
       "3  positive   \n",
       "4  positive   \n",
       "\n",
       "  According to Gran , the company has no plans to move all production to Russia , although that is where the company is growing .  \n",
       "0  Technopolis plans to develop in stages an area...                                                                               \n",
       "1  The international electronic industry company ...                                                                               \n",
       "2  With the new production plant the company woul...                                                                               \n",
       "3  According to the company 's updated strategy f...                                                                               \n",
       "4  FINANCING OF ASPOCOMP 'S GROWTH Aspocomp is ag...                                                                               "
      ]
     },
     "execution_count": 116,
     "metadata": {},
     "output_type": "execute_result"
    }
   ],
   "source": [
    "News.head()"
   ]
  },
  {
   "cell_type": "code",
   "execution_count": 117,
   "id": "b1d2218a",
   "metadata": {},
   "outputs": [
    {
     "name": "stdout",
     "output_type": "stream",
     "text": [
      "<class 'pandas.core.frame.DataFrame'>\n",
      "RangeIndex: 4845 entries, 0 to 4844\n",
      "Data columns (total 2 columns):\n",
      " #   Column                                                                                                                           Non-Null Count  Dtype \n",
      "---  ------                                                                                                                           --------------  ----- \n",
      " 0   neutral                                                                                                                          4845 non-null   object\n",
      " 1   According to Gran , the company has no plans to move all production to Russia , although that is where the company is growing .  4845 non-null   object\n",
      "dtypes: object(2)\n",
      "memory usage: 75.8+ KB\n"
     ]
    }
   ],
   "source": [
    "News.info()"
   ]
  },
  {
   "cell_type": "code",
   "execution_count": 118,
   "id": "a2309b74",
   "metadata": {},
   "outputs": [
    {
     "data": {
      "text/html": [
       "<div>\n",
       "<style scoped>\n",
       "    .dataframe tbody tr th:only-of-type {\n",
       "        vertical-align: middle;\n",
       "    }\n",
       "\n",
       "    .dataframe tbody tr th {\n",
       "        vertical-align: top;\n",
       "    }\n",
       "\n",
       "    .dataframe thead th {\n",
       "        text-align: right;\n",
       "    }\n",
       "</style>\n",
       "<table border=\"1\" class=\"dataframe\">\n",
       "  <thead>\n",
       "    <tr style=\"text-align: right;\">\n",
       "      <th></th>\n",
       "      <th>neutral</th>\n",
       "      <th>According to Gran , the company has no plans to move all production to Russia , although that is where the company is growing .</th>\n",
       "    </tr>\n",
       "  </thead>\n",
       "  <tbody>\n",
       "    <tr>\n",
       "      <th>count</th>\n",
       "      <td>4845</td>\n",
       "      <td>4845</td>\n",
       "    </tr>\n",
       "    <tr>\n",
       "      <th>unique</th>\n",
       "      <td>3</td>\n",
       "      <td>4837</td>\n",
       "    </tr>\n",
       "    <tr>\n",
       "      <th>top</th>\n",
       "      <td>neutral</td>\n",
       "      <td>TELECOMWORLDWIRE-7 April 2006-TJ Group Plc sel...</td>\n",
       "    </tr>\n",
       "    <tr>\n",
       "      <th>freq</th>\n",
       "      <td>2878</td>\n",
       "      <td>2</td>\n",
       "    </tr>\n",
       "  </tbody>\n",
       "</table>\n",
       "</div>"
      ],
      "text/plain": [
       "        neutral  \\\n",
       "count      4845   \n",
       "unique        3   \n",
       "top     neutral   \n",
       "freq       2878   \n",
       "\n",
       "       According to Gran , the company has no plans to move all production to Russia , although that is where the company is growing .  \n",
       "count                                                4845                                                                               \n",
       "unique                                               4837                                                                               \n",
       "top     TELECOMWORLDWIRE-7 April 2006-TJ Group Plc sel...                                                                               \n",
       "freq                                                    2                                                                               "
      ]
     },
     "execution_count": 118,
     "metadata": {},
     "output_type": "execute_result"
    }
   ],
   "source": [
    "News.describe()"
   ]
  },
  {
   "cell_type": "code",
   "execution_count": 119,
   "id": "752fe83d",
   "metadata": {},
   "outputs": [],
   "source": [
    "headers=['Sentiment','News-line']\n",
    "News.columns=headers"
   ]
  },
  {
   "cell_type": "code",
   "execution_count": 120,
   "id": "25a91707",
   "metadata": {},
   "outputs": [],
   "source": [
    "News['News-line']=News['News-line'].str.lower() #converting to lower case string\n",
    "News['News-line']=News['News-line'].apply(lambda x:re.sub(r'[^\\w\\s]', '', x)) #removing punctuations\n",
    "News['News-line']=News['News-line'].apply(lambda x:re.sub(r'[0-9]+', '', x)) #removing numbers\n",
    "News['News-line']=News['News-line'].apply(lambda x: word_tokenize(x))  # Tokenization"
   ]
  },
  {
   "cell_type": "code",
   "execution_count": 121,
   "id": "6da70181",
   "metadata": {},
   "outputs": [
    {
     "data": {
      "text/html": [
       "<div>\n",
       "<style scoped>\n",
       "    .dataframe tbody tr th:only-of-type {\n",
       "        vertical-align: middle;\n",
       "    }\n",
       "\n",
       "    .dataframe tbody tr th {\n",
       "        vertical-align: top;\n",
       "    }\n",
       "\n",
       "    .dataframe thead th {\n",
       "        text-align: right;\n",
       "    }\n",
       "</style>\n",
       "<table border=\"1\" class=\"dataframe\">\n",
       "  <thead>\n",
       "    <tr style=\"text-align: right;\">\n",
       "      <th></th>\n",
       "      <th>Sentiment</th>\n",
       "      <th>News-line</th>\n",
       "    </tr>\n",
       "  </thead>\n",
       "  <tbody>\n",
       "    <tr>\n",
       "      <th>0</th>\n",
       "      <td>neutral</td>\n",
       "      <td>[technopolis, plans, to, develop, in, stages, ...</td>\n",
       "    </tr>\n",
       "    <tr>\n",
       "      <th>1</th>\n",
       "      <td>negative</td>\n",
       "      <td>[the, international, electronic, industry, com...</td>\n",
       "    </tr>\n",
       "    <tr>\n",
       "      <th>2</th>\n",
       "      <td>positive</td>\n",
       "      <td>[with, the, new, production, plant, the, compa...</td>\n",
       "    </tr>\n",
       "    <tr>\n",
       "      <th>3</th>\n",
       "      <td>positive</td>\n",
       "      <td>[according, to, the, company, s, updated, stra...</td>\n",
       "    </tr>\n",
       "    <tr>\n",
       "      <th>4</th>\n",
       "      <td>positive</td>\n",
       "      <td>[financing, of, aspocomp, s, growth, aspocomp,...</td>\n",
       "    </tr>\n",
       "  </tbody>\n",
       "</table>\n",
       "</div>"
      ],
      "text/plain": [
       "  Sentiment                                          News-line\n",
       "0   neutral  [technopolis, plans, to, develop, in, stages, ...\n",
       "1  negative  [the, international, electronic, industry, com...\n",
       "2  positive  [with, the, new, production, plant, the, compa...\n",
       "3  positive  [according, to, the, company, s, updated, stra...\n",
       "4  positive  [financing, of, aspocomp, s, growth, aspocomp,..."
      ]
     },
     "execution_count": 121,
     "metadata": {},
     "output_type": "execute_result"
    }
   ],
   "source": [
    "News.head()"
   ]
  },
  {
   "cell_type": "code",
   "execution_count": 122,
   "id": "21e1b089",
   "metadata": {},
   "outputs": [],
   "source": [
    "stop_words=set(stopwords.words('english'))\n",
    "News['News-line']=News['News-line'].apply(lambda x:[word for word in x if word not in stop_words])"
   ]
  },
  {
   "cell_type": "code",
   "execution_count": 123,
   "id": "1154e05a",
   "metadata": {},
   "outputs": [
    {
     "data": {
      "text/html": [
       "<div>\n",
       "<style scoped>\n",
       "    .dataframe tbody tr th:only-of-type {\n",
       "        vertical-align: middle;\n",
       "    }\n",
       "\n",
       "    .dataframe tbody tr th {\n",
       "        vertical-align: top;\n",
       "    }\n",
       "\n",
       "    .dataframe thead th {\n",
       "        text-align: right;\n",
       "    }\n",
       "</style>\n",
       "<table border=\"1\" class=\"dataframe\">\n",
       "  <thead>\n",
       "    <tr style=\"text-align: right;\">\n",
       "      <th></th>\n",
       "      <th>Sentiment</th>\n",
       "      <th>News-line</th>\n",
       "    </tr>\n",
       "  </thead>\n",
       "  <tbody>\n",
       "    <tr>\n",
       "      <th>0</th>\n",
       "      <td>neutral</td>\n",
       "      <td>[technopolis, plans, develop, stages, area, le...</td>\n",
       "    </tr>\n",
       "    <tr>\n",
       "      <th>1</th>\n",
       "      <td>negative</td>\n",
       "      <td>[international, electronic, industry, company,...</td>\n",
       "    </tr>\n",
       "    <tr>\n",
       "      <th>2</th>\n",
       "      <td>positive</td>\n",
       "      <td>[new, production, plant, company, would, incre...</td>\n",
       "    </tr>\n",
       "    <tr>\n",
       "      <th>3</th>\n",
       "      <td>positive</td>\n",
       "      <td>[according, company, updated, strategy, years,...</td>\n",
       "    </tr>\n",
       "    <tr>\n",
       "      <th>4</th>\n",
       "      <td>positive</td>\n",
       "      <td>[financing, aspocomp, growth, aspocomp, aggres...</td>\n",
       "    </tr>\n",
       "    <tr>\n",
       "      <th>...</th>\n",
       "      <td>...</td>\n",
       "      <td>...</td>\n",
       "    </tr>\n",
       "    <tr>\n",
       "      <th>4840</th>\n",
       "      <td>negative</td>\n",
       "      <td>[london, marketwatch, share, prices, ended, lo...</td>\n",
       "    </tr>\n",
       "    <tr>\n",
       "      <th>4841</th>\n",
       "      <td>neutral</td>\n",
       "      <td>[rinkuskiai, beer, sales, fell, per, cent, mil...</td>\n",
       "    </tr>\n",
       "    <tr>\n",
       "      <th>4842</th>\n",
       "      <td>negative</td>\n",
       "      <td>[operating, profit, fell, eur, mn, eur, mn, in...</td>\n",
       "    </tr>\n",
       "    <tr>\n",
       "      <th>4843</th>\n",
       "      <td>negative</td>\n",
       "      <td>[net, sales, paper, segment, decreased, eur, m...</td>\n",
       "    </tr>\n",
       "    <tr>\n",
       "      <th>4844</th>\n",
       "      <td>negative</td>\n",
       "      <td>[sales, finland, decreased, january, sales, ou...</td>\n",
       "    </tr>\n",
       "  </tbody>\n",
       "</table>\n",
       "<p>4845 rows × 2 columns</p>\n",
       "</div>"
      ],
      "text/plain": [
       "     Sentiment                                          News-line\n",
       "0      neutral  [technopolis, plans, develop, stages, area, le...\n",
       "1     negative  [international, electronic, industry, company,...\n",
       "2     positive  [new, production, plant, company, would, incre...\n",
       "3     positive  [according, company, updated, strategy, years,...\n",
       "4     positive  [financing, aspocomp, growth, aspocomp, aggres...\n",
       "...        ...                                                ...\n",
       "4840  negative  [london, marketwatch, share, prices, ended, lo...\n",
       "4841   neutral  [rinkuskiai, beer, sales, fell, per, cent, mil...\n",
       "4842  negative  [operating, profit, fell, eur, mn, eur, mn, in...\n",
       "4843  negative  [net, sales, paper, segment, decreased, eur, m...\n",
       "4844  negative  [sales, finland, decreased, january, sales, ou...\n",
       "\n",
       "[4845 rows x 2 columns]"
      ]
     },
     "execution_count": 123,
     "metadata": {},
     "output_type": "execute_result"
    }
   ],
   "source": [
    "News"
   ]
  },
  {
   "cell_type": "code",
   "execution_count": 124,
   "id": "f719be45",
   "metadata": {},
   "outputs": [],
   "source": [
    "stemmer=PorterStemmer()\n",
    "News['News-line']=News['News-line'].apply(lambda x:[stemmer.stem(word) for word in x])"
   ]
  },
  {
   "cell_type": "code",
   "execution_count": 125,
   "id": "04a7612e",
   "metadata": {},
   "outputs": [],
   "source": [
    "lemmetizer=WordNetLemmatizer()\n",
    "News['News-line']=News['News-line'].apply(lambda x:[lemmetizer.lemmatize(word)for word in x])\n",
    "\n",
    "df=[]\n",
    "df=News['News-line']"
   ]
  },
  {
   "cell_type": "code",
   "execution_count": 126,
   "id": "c3fff8bc",
   "metadata": {},
   "outputs": [
    {
     "data": {
      "text/html": [
       "<div>\n",
       "<style scoped>\n",
       "    .dataframe tbody tr th:only-of-type {\n",
       "        vertical-align: middle;\n",
       "    }\n",
       "\n",
       "    .dataframe tbody tr th {\n",
       "        vertical-align: top;\n",
       "    }\n",
       "\n",
       "    .dataframe thead th {\n",
       "        text-align: right;\n",
       "    }\n",
       "</style>\n",
       "<table border=\"1\" class=\"dataframe\">\n",
       "  <thead>\n",
       "    <tr style=\"text-align: right;\">\n",
       "      <th></th>\n",
       "      <th>Sentiment</th>\n",
       "      <th>News-line</th>\n",
       "    </tr>\n",
       "  </thead>\n",
       "  <tbody>\n",
       "    <tr>\n",
       "      <th>0</th>\n",
       "      <td>neutral</td>\n",
       "      <td>[technopoli, plan, develop, stage, area, le, s...</td>\n",
       "    </tr>\n",
       "    <tr>\n",
       "      <th>1</th>\n",
       "      <td>negative</td>\n",
       "      <td>[intern, electron, industri, compani, elcoteq,...</td>\n",
       "    </tr>\n",
       "    <tr>\n",
       "      <th>2</th>\n",
       "      <td>positive</td>\n",
       "      <td>[new, product, plant, compani, would, increas,...</td>\n",
       "    </tr>\n",
       "    <tr>\n",
       "      <th>3</th>\n",
       "      <td>positive</td>\n",
       "      <td>[accord, compani, updat, strategi, year, baswa...</td>\n",
       "    </tr>\n",
       "    <tr>\n",
       "      <th>4</th>\n",
       "      <td>positive</td>\n",
       "      <td>[financ, aspocomp, growth, aspocomp, aggress, ...</td>\n",
       "    </tr>\n",
       "  </tbody>\n",
       "</table>\n",
       "</div>"
      ],
      "text/plain": [
       "  Sentiment                                          News-line\n",
       "0   neutral  [technopoli, plan, develop, stage, area, le, s...\n",
       "1  negative  [intern, electron, industri, compani, elcoteq,...\n",
       "2  positive  [new, product, plant, compani, would, increas,...\n",
       "3  positive  [accord, compani, updat, strategi, year, baswa...\n",
       "4  positive  [financ, aspocomp, growth, aspocomp, aggress, ..."
      ]
     },
     "execution_count": 126,
     "metadata": {},
     "output_type": "execute_result"
    }
   ],
   "source": [
    "News.head()"
   ]
  },
  {
   "cell_type": "code",
   "execution_count": 127,
   "id": "c323d7cb",
   "metadata": {},
   "outputs": [
    {
     "name": "stdout",
     "output_type": "stream",
     "text": [
      "object\n"
     ]
    }
   ],
   "source": [
    "print(News['News-line'].dtype)\n",
    "News['News-line'] = News['News-line'].astype(str)\n",
    "#print(News['News-line'].dtype)"
   ]
  },
  {
   "cell_type": "code",
   "execution_count": 130,
   "id": "f95ce81a",
   "metadata": {},
   "outputs": [
    {
     "name": "stderr",
     "output_type": "stream",
     "text": [
      "[nltk_data] Error loading sentiwordnet: <urlopen error [WinError\n",
      "[nltk_data]     10061] No connection could be made because the target\n",
      "[nltk_data]     machine actively refused it>\n"
     ]
    }
   ],
   "source": [
    "from nltk.corpus import sentiwordnet as swn\n",
    "import nltk\n",
    "nltk.download('sentiwordnet')\n",
    "\n",
    "# Define a function to calculate the sentiment score of a review\n",
    "def calculate_senti_score(text):\n",
    "    tokens = nltk.word_tokenize(text)\n",
    "    pos_score = 0\n",
    "    neg_score = 0\n",
    "    obj_score = 0\n",
    "\n",
    "    for token in tokens:\n",
    "        synsets = list(swn.senti_synsets(token))\n",
    "        if synsets:\n",
    "            pos_score += synsets[0].pos_score()\n",
    "            neg_score += synsets[0].neg_score()\n",
    "            obj_score += synsets[0].obj_score()\n",
    "\n",
    "    return pos_score - neg_score\n",
    "\n",
    "# Apply the sentiment score calculation\n",
    "News['senti_score'] = News['News-line'].apply(calculate_senti_score)\n"
   ]
  },
  {
   "cell_type": "code",
   "execution_count": 131,
   "id": "cb4481d7",
   "metadata": {},
   "outputs": [
    {
     "name": "stdout",
     "output_type": "stream",
     "text": [
      "0       0.0\n",
      "1       0.0\n",
      "2       0.0\n",
      "3       0.0\n",
      "4       0.0\n",
      "       ... \n",
      "4840    0.0\n",
      "4841    0.0\n",
      "4842    0.0\n",
      "4843    0.0\n",
      "4844    0.0\n",
      "Name: senti_score, Length: 4845, dtype: float64\n"
     ]
    }
   ],
   "source": [
    "print(News['senti_score'])"
   ]
  },
  {
   "cell_type": "code",
   "execution_count": 136,
   "id": "a9e41311",
   "metadata": {},
   "outputs": [
    {
     "name": "stdout",
     "output_type": "stream",
     "text": [
      "Dataframe has been written to output.csv\n"
     ]
    }
   ],
   "source": [
    "# Create a dataframe from the data\n",
    "df = pd.DataFrame(News['senti_score'])\n",
    "\n",
    "# Specify the file path where you want to save the CSV\n",
    "file_path = \"output.csv\"\n",
    "\n",
    "# Save the dataframe to a CSV file\n",
    "df.to_csv(file_path, index=True)\n",
    "\n",
    "print(f\"Dataframe has been written to {file_path}\")\n",
    "\n"
   ]
  },
  {
   "cell_type": "code",
   "execution_count": null,
   "id": "2dc90459",
   "metadata": {},
   "outputs": [],
   "source": []
  }
 ],
 "metadata": {
  "kernelspec": {
   "display_name": "Python 3 (ipykernel)",
   "language": "python",
   "name": "python3"
  },
  "language_info": {
   "codemirror_mode": {
    "name": "ipython",
    "version": 3
   },
   "file_extension": ".py",
   "mimetype": "text/x-python",
   "name": "python",
   "nbconvert_exporter": "python",
   "pygments_lexer": "ipython3",
   "version": "3.9.12"
  }
 },
 "nbformat": 4,
 "nbformat_minor": 5
}
